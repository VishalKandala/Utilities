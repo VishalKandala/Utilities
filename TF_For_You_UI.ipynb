{
  "nbformat": 4,
  "nbformat_minor": 0,
  "metadata": {
    "colab": {
      "name": "TF-For-You-UI.ipynb",
      "provenance": [],
      "collapsed_sections": [],
      "include_colab_link": true
    },
    "kernelspec": {
      "name": "python3",
      "display_name": "Python 3"
    },
    "accelerator": "GPU"
  },
  "cells": [
    {
      "cell_type": "markdown",
      "metadata": {
        "id": "view-in-github",
        "colab_type": "text"
      },
      "source": [
        "<a href=\"https://colab.research.google.com/github/VishalKandala/Utilities/blob/master/TF_For_You_UI.ipynb\" target=\"_parent\"><img src=\"https://colab.research.google.com/assets/colab-badge.svg\" alt=\"Open In Colab\"/></a>"
      ]
    },
    {
      "cell_type": "code",
      "metadata": {
        "id": "nY7xsyxJWYxe",
        "outputId": "139ae7c7-b174-4663-97cb-931a41ec19b0",
        "colab": {
          "base_uri": "https://localhost:8080/",
          "height": 1000
        }
      },
      "source": [
        "!pip install streamlit"
      ],
      "execution_count": 1,
      "outputs": [
        {
          "output_type": "stream",
          "text": [
            "Collecting streamlit\n",
            "\u001b[?25l  Downloading https://files.pythonhosted.org/packages/c7/d2/3228e647441606a38ce4f73a30ba8a5d36a7be421123d129f7e40348dc02/streamlit-0.69.2-py2.py3-none-any.whl (7.4MB)\n",
            "\u001b[K     |████████████████████████████████| 7.4MB 4.6MB/s \n",
            "\u001b[?25hCollecting boto3\n",
            "\u001b[?25l  Downloading https://files.pythonhosted.org/packages/2f/08/f1ff665147a5d75b871bbe5ba76916f6490419c52a33e588385c4b69281b/boto3-1.15.18-py2.py3-none-any.whl (129kB)\n",
            "\u001b[K     |████████████████████████████████| 133kB 41.6MB/s \n",
            "\u001b[?25hRequirement already satisfied: altair>=3.2.0 in /usr/local/lib/python3.6/dist-packages (from streamlit) (4.1.0)\n",
            "Collecting validators\n",
            "  Downloading https://files.pythonhosted.org/packages/41/4a/3360ff3cf2b4a1b9721ac1fbff5f84663f41047d9874b3aa1ac82e862c44/validators-0.18.1-py3-none-any.whl\n",
            "Requirement already satisfied: astor in /usr/local/lib/python3.6/dist-packages (from streamlit) (0.8.1)\n",
            "Collecting botocore>=1.13.44\n",
            "\u001b[?25l  Downloading https://files.pythonhosted.org/packages/2d/72/984ac8f33b5c8df5ff63f323a8724f65b4d0f8956968b942b77d35d3a1ef/botocore-1.18.18-py2.py3-none-any.whl (6.7MB)\n",
            "\u001b[K     |████████████████████████████████| 6.7MB 38.2MB/s \n",
            "\u001b[?25hCollecting blinker\n",
            "\u001b[?25l  Downloading https://files.pythonhosted.org/packages/1b/51/e2a9f3b757eb802f61dc1f2b09c8c99f6eb01cf06416c0671253536517b6/blinker-1.4.tar.gz (111kB)\n",
            "\u001b[K     |████████████████████████████████| 112kB 61.0MB/s \n",
            "\u001b[?25hRequirement already satisfied: pandas>=0.21.0 in /usr/local/lib/python3.6/dist-packages (from streamlit) (1.1.2)\n",
            "Collecting watchdog\n",
            "\u001b[?25l  Downloading https://files.pythonhosted.org/packages/0e/06/121302598a4fc01aca942d937f4a2c33430b7181137b35758913a8db10ad/watchdog-0.10.3.tar.gz (94kB)\n",
            "\u001b[K     |████████████████████████████████| 102kB 15.2MB/s \n",
            "\u001b[?25hRequirement already satisfied: protobuf>=3.6.0 in /usr/local/lib/python3.6/dist-packages (from streamlit) (3.12.4)\n",
            "Collecting base58\n",
            "  Downloading https://files.pythonhosted.org/packages/3c/03/58572025c77b9e6027155b272a1b96298e711cd4f95c24967f7137ab0c4b/base58-2.0.1-py3-none-any.whl\n",
            "Requirement already satisfied: toml in /usr/local/lib/python3.6/dist-packages (from streamlit) (0.10.1)\n",
            "Requirement already satisfied: packaging in /usr/local/lib/python3.6/dist-packages (from streamlit) (20.4)\n",
            "Collecting pydeck>=0.1.dev5\n",
            "\u001b[?25l  Downloading https://files.pythonhosted.org/packages/51/1e/296f4108bf357e684617a776ecaf06ee93b43e30c35996dfac1aa985aa6c/pydeck-0.5.0b1-py2.py3-none-any.whl (4.4MB)\n",
            "\u001b[K     |████████████████████████████████| 4.4MB 55.7MB/s \n",
            "\u001b[?25hRequirement already satisfied: numpy in /usr/local/lib/python3.6/dist-packages (from streamlit) (1.18.5)\n",
            "Requirement already satisfied: pillow>=6.2.0 in /usr/local/lib/python3.6/dist-packages (from streamlit) (7.0.0)\n",
            "Requirement already satisfied: python-dateutil in /usr/local/lib/python3.6/dist-packages (from streamlit) (2.8.1)\n",
            "Requirement already satisfied: click>=7.0 in /usr/local/lib/python3.6/dist-packages (from streamlit) (7.1.2)\n",
            "Requirement already satisfied: cachetools>=4.0 in /usr/local/lib/python3.6/dist-packages (from streamlit) (4.1.1)\n",
            "Collecting gitpython\n",
            "\u001b[?25l  Downloading https://files.pythonhosted.org/packages/c0/d7/b2b0672e0331567157adf9281f41ee731c412ee518ca5e6552c27fa73c91/GitPython-3.1.9-py3-none-any.whl (159kB)\n",
            "\u001b[K     |████████████████████████████████| 163kB 61.8MB/s \n",
            "\u001b[?25hRequirement already satisfied: tzlocal in /usr/local/lib/python3.6/dist-packages (from streamlit) (1.5.1)\n",
            "Requirement already satisfied: pyarrow in /usr/local/lib/python3.6/dist-packages (from streamlit) (0.14.1)\n",
            "Requirement already satisfied: requests in /usr/local/lib/python3.6/dist-packages (from streamlit) (2.23.0)\n",
            "Collecting enum-compat\n",
            "  Downloading https://files.pythonhosted.org/packages/55/ae/467bc4509246283bb59746e21a1a2f5a8aecbef56b1fa6eaca78cd438c8b/enum_compat-0.0.3-py3-none-any.whl\n",
            "Requirement already satisfied: tornado>=5.0 in /usr/local/lib/python3.6/dist-packages (from streamlit) (5.1.1)\n",
            "Collecting jmespath<1.0.0,>=0.7.1\n",
            "  Downloading https://files.pythonhosted.org/packages/07/cb/5f001272b6faeb23c1c9e0acc04d48eaaf5c862c17709d20e3469c6e0139/jmespath-0.10.0-py2.py3-none-any.whl\n",
            "Collecting s3transfer<0.4.0,>=0.3.0\n",
            "\u001b[?25l  Downloading https://files.pythonhosted.org/packages/69/79/e6afb3d8b0b4e96cefbdc690f741d7dd24547ff1f94240c997a26fa908d3/s3transfer-0.3.3-py2.py3-none-any.whl (69kB)\n",
            "\u001b[K     |████████████████████████████████| 71kB 11.5MB/s \n",
            "\u001b[?25hRequirement already satisfied: entrypoints in /usr/local/lib/python3.6/dist-packages (from altair>=3.2.0->streamlit) (0.3)\n",
            "Requirement already satisfied: jinja2 in /usr/local/lib/python3.6/dist-packages (from altair>=3.2.0->streamlit) (2.11.2)\n",
            "Requirement already satisfied: jsonschema in /usr/local/lib/python3.6/dist-packages (from altair>=3.2.0->streamlit) (2.6.0)\n",
            "Requirement already satisfied: toolz in /usr/local/lib/python3.6/dist-packages (from altair>=3.2.0->streamlit) (0.11.1)\n",
            "Requirement already satisfied: six>=1.4.0 in /usr/local/lib/python3.6/dist-packages (from validators->streamlit) (1.15.0)\n",
            "Requirement already satisfied: decorator>=3.4.0 in /usr/local/lib/python3.6/dist-packages (from validators->streamlit) (4.4.2)\n",
            "Requirement already satisfied: urllib3<1.26,>=1.20; python_version != \"3.4\" in /usr/local/lib/python3.6/dist-packages (from botocore>=1.13.44->streamlit) (1.24.3)\n",
            "Requirement already satisfied: pytz>=2017.2 in /usr/local/lib/python3.6/dist-packages (from pandas>=0.21.0->streamlit) (2018.9)\n",
            "Collecting pathtools>=0.1.1\n",
            "  Downloading https://files.pythonhosted.org/packages/e7/7f/470d6fcdf23f9f3518f6b0b76be9df16dcc8630ad409947f8be2eb0ed13a/pathtools-0.1.2.tar.gz\n",
            "Requirement already satisfied: setuptools in /usr/local/lib/python3.6/dist-packages (from protobuf>=3.6.0->streamlit) (50.3.0)\n",
            "Requirement already satisfied: pyparsing>=2.0.2 in /usr/local/lib/python3.6/dist-packages (from packaging->streamlit) (2.4.7)\n",
            "Requirement already satisfied: traitlets>=4.3.2 in /usr/local/lib/python3.6/dist-packages (from pydeck>=0.1.dev5->streamlit) (4.3.3)\n",
            "Requirement already satisfied: ipywidgets>=7.0.0 in /usr/local/lib/python3.6/dist-packages (from pydeck>=0.1.dev5->streamlit) (7.5.1)\n",
            "Collecting ipykernel>=5.1.2; python_version >= \"3.4\"\n",
            "\u001b[?25l  Downloading https://files.pythonhosted.org/packages/52/19/c2812690d8b340987eecd2cbc18549b1d130b94c5d97fcbe49f5f8710edf/ipykernel-5.3.4-py3-none-any.whl (120kB)\n",
            "\u001b[K     |████████████████████████████████| 122kB 59.5MB/s \n",
            "\u001b[?25hCollecting gitdb<5,>=4.0.1\n",
            "\u001b[?25l  Downloading https://files.pythonhosted.org/packages/48/11/d1800bca0a3bae820b84b7d813ad1eff15a48a64caea9c823fc8c1b119e8/gitdb-4.0.5-py3-none-any.whl (63kB)\n",
            "\u001b[K     |████████████████████████████████| 71kB 12.5MB/s \n",
            "\u001b[?25hRequirement already satisfied: idna<3,>=2.5 in /usr/local/lib/python3.6/dist-packages (from requests->streamlit) (2.10)\n",
            "Requirement already satisfied: certifi>=2017.4.17 in /usr/local/lib/python3.6/dist-packages (from requests->streamlit) (2020.6.20)\n",
            "Requirement already satisfied: chardet<4,>=3.0.2 in /usr/local/lib/python3.6/dist-packages (from requests->streamlit) (3.0.4)\n",
            "Requirement already satisfied: MarkupSafe>=0.23 in /usr/local/lib/python3.6/dist-packages (from jinja2->altair>=3.2.0->streamlit) (1.1.1)\n",
            "Requirement already satisfied: ipython-genutils in /usr/local/lib/python3.6/dist-packages (from traitlets>=4.3.2->pydeck>=0.1.dev5->streamlit) (0.2.0)\n",
            "Requirement already satisfied: nbformat>=4.2.0 in /usr/local/lib/python3.6/dist-packages (from ipywidgets>=7.0.0->pydeck>=0.1.dev5->streamlit) (5.0.7)\n",
            "Requirement already satisfied: widgetsnbextension~=3.5.0 in /usr/local/lib/python3.6/dist-packages (from ipywidgets>=7.0.0->pydeck>=0.1.dev5->streamlit) (3.5.1)\n",
            "Requirement already satisfied: ipython>=4.0.0; python_version >= \"3.3\" in /usr/local/lib/python3.6/dist-packages (from ipywidgets>=7.0.0->pydeck>=0.1.dev5->streamlit) (5.5.0)\n",
            "Requirement already satisfied: jupyter-client in /usr/local/lib/python3.6/dist-packages (from ipykernel>=5.1.2; python_version >= \"3.4\"->pydeck>=0.1.dev5->streamlit) (5.3.5)\n",
            "Collecting smmap<4,>=3.0.1\n",
            "  Downloading https://files.pythonhosted.org/packages/b0/9a/4d409a6234eb940e6a78dfdfc66156e7522262f5f2fecca07dc55915952d/smmap-3.0.4-py2.py3-none-any.whl\n",
            "Requirement already satisfied: jupyter-core in /usr/local/lib/python3.6/dist-packages (from nbformat>=4.2.0->ipywidgets>=7.0.0->pydeck>=0.1.dev5->streamlit) (4.6.3)\n",
            "Requirement already satisfied: notebook>=4.4.1 in /usr/local/lib/python3.6/dist-packages (from widgetsnbextension~=3.5.0->ipywidgets>=7.0.0->pydeck>=0.1.dev5->streamlit) (5.3.1)\n",
            "Requirement already satisfied: pickleshare in /usr/local/lib/python3.6/dist-packages (from ipython>=4.0.0; python_version >= \"3.3\"->ipywidgets>=7.0.0->pydeck>=0.1.dev5->streamlit) (0.7.5)\n",
            "Requirement already satisfied: simplegeneric>0.8 in /usr/local/lib/python3.6/dist-packages (from ipython>=4.0.0; python_version >= \"3.3\"->ipywidgets>=7.0.0->pydeck>=0.1.dev5->streamlit) (0.8.1)\n",
            "Requirement already satisfied: prompt-toolkit<2.0.0,>=1.0.4 in /usr/local/lib/python3.6/dist-packages (from ipython>=4.0.0; python_version >= \"3.3\"->ipywidgets>=7.0.0->pydeck>=0.1.dev5->streamlit) (1.0.18)\n",
            "Requirement already satisfied: pexpect; sys_platform != \"win32\" in /usr/local/lib/python3.6/dist-packages (from ipython>=4.0.0; python_version >= \"3.3\"->ipywidgets>=7.0.0->pydeck>=0.1.dev5->streamlit) (4.8.0)\n",
            "Requirement already satisfied: pygments in /usr/local/lib/python3.6/dist-packages (from ipython>=4.0.0; python_version >= \"3.3\"->ipywidgets>=7.0.0->pydeck>=0.1.dev5->streamlit) (2.6.1)\n",
            "Requirement already satisfied: pyzmq>=13 in /usr/local/lib/python3.6/dist-packages (from jupyter-client->ipykernel>=5.1.2; python_version >= \"3.4\"->pydeck>=0.1.dev5->streamlit) (19.0.2)\n",
            "Requirement already satisfied: terminado>=0.8.1 in /usr/local/lib/python3.6/dist-packages (from notebook>=4.4.1->widgetsnbextension~=3.5.0->ipywidgets>=7.0.0->pydeck>=0.1.dev5->streamlit) (0.9.1)\n",
            "Requirement already satisfied: nbconvert in /usr/local/lib/python3.6/dist-packages (from notebook>=4.4.1->widgetsnbextension~=3.5.0->ipywidgets>=7.0.0->pydeck>=0.1.dev5->streamlit) (5.6.1)\n",
            "Requirement already satisfied: Send2Trash in /usr/local/lib/python3.6/dist-packages (from notebook>=4.4.1->widgetsnbextension~=3.5.0->ipywidgets>=7.0.0->pydeck>=0.1.dev5->streamlit) (1.5.0)\n",
            "Requirement already satisfied: wcwidth in /usr/local/lib/python3.6/dist-packages (from prompt-toolkit<2.0.0,>=1.0.4->ipython>=4.0.0; python_version >= \"3.3\"->ipywidgets>=7.0.0->pydeck>=0.1.dev5->streamlit) (0.2.5)\n",
            "Requirement already satisfied: ptyprocess>=0.5 in /usr/local/lib/python3.6/dist-packages (from pexpect; sys_platform != \"win32\"->ipython>=4.0.0; python_version >= \"3.3\"->ipywidgets>=7.0.0->pydeck>=0.1.dev5->streamlit) (0.6.0)\n",
            "Requirement already satisfied: pandocfilters>=1.4.1 in /usr/local/lib/python3.6/dist-packages (from nbconvert->notebook>=4.4.1->widgetsnbextension~=3.5.0->ipywidgets>=7.0.0->pydeck>=0.1.dev5->streamlit) (1.4.2)\n",
            "Requirement already satisfied: bleach in /usr/local/lib/python3.6/dist-packages (from nbconvert->notebook>=4.4.1->widgetsnbextension~=3.5.0->ipywidgets>=7.0.0->pydeck>=0.1.dev5->streamlit) (3.2.1)\n",
            "Requirement already satisfied: testpath in /usr/local/lib/python3.6/dist-packages (from nbconvert->notebook>=4.4.1->widgetsnbextension~=3.5.0->ipywidgets>=7.0.0->pydeck>=0.1.dev5->streamlit) (0.4.4)\n",
            "Requirement already satisfied: mistune<2,>=0.8.1 in /usr/local/lib/python3.6/dist-packages (from nbconvert->notebook>=4.4.1->widgetsnbextension~=3.5.0->ipywidgets>=7.0.0->pydeck>=0.1.dev5->streamlit) (0.8.4)\n",
            "Requirement already satisfied: defusedxml in /usr/local/lib/python3.6/dist-packages (from nbconvert->notebook>=4.4.1->widgetsnbextension~=3.5.0->ipywidgets>=7.0.0->pydeck>=0.1.dev5->streamlit) (0.6.0)\n",
            "Requirement already satisfied: webencodings in /usr/local/lib/python3.6/dist-packages (from bleach->nbconvert->notebook>=4.4.1->widgetsnbextension~=3.5.0->ipywidgets>=7.0.0->pydeck>=0.1.dev5->streamlit) (0.5.1)\n",
            "Building wheels for collected packages: blinker, watchdog, pathtools\n",
            "  Building wheel for blinker (setup.py) ... \u001b[?25l\u001b[?25hdone\n",
            "  Created wheel for blinker: filename=blinker-1.4-cp36-none-any.whl size=13450 sha256=97a340d87cf7bca3a2d34f12c281bf2e91f1a7c7b6effe20108753b2703229c1\n",
            "  Stored in directory: /root/.cache/pip/wheels/92/a0/00/8690a57883956a301d91cf4ec999cc0b258b01e3f548f86e89\n",
            "  Building wheel for watchdog (setup.py) ... \u001b[?25l\u001b[?25hdone\n",
            "  Created wheel for watchdog: filename=watchdog-0.10.3-cp36-none-any.whl size=73873 sha256=8595ce063775798e12aa6eca34c29ed03ee5dbb65454edc4bae7d8f7e6fa21b9\n",
            "  Stored in directory: /root/.cache/pip/wheels/a8/1d/38/2c19bb311f67cc7b4d07a2ec5ea36ab1a0a0ea50db994a5bc7\n",
            "  Building wheel for pathtools (setup.py) ... \u001b[?25l\u001b[?25hdone\n",
            "  Created wheel for pathtools: filename=pathtools-0.1.2-cp36-none-any.whl size=8785 sha256=fc50629c855bec2500f7bfed96a3805eb7f19e8644f5f3032971ba5096a764aa\n",
            "  Stored in directory: /root/.cache/pip/wheels/0b/04/79/c3b0c3a0266a3cb4376da31e5bfe8bba0c489246968a68e843\n",
            "Successfully built blinker watchdog pathtools\n",
            "\u001b[31mERROR: google-colab 1.0.0 has requirement ipykernel~=4.10, but you'll have ipykernel 5.3.4 which is incompatible.\u001b[0m\n",
            "Installing collected packages: jmespath, botocore, s3transfer, boto3, validators, blinker, pathtools, watchdog, base58, ipykernel, pydeck, smmap, gitdb, gitpython, enum-compat, streamlit\n",
            "  Found existing installation: ipykernel 4.10.1\n",
            "    Uninstalling ipykernel-4.10.1:\n",
            "      Successfully uninstalled ipykernel-4.10.1\n",
            "Successfully installed base58-2.0.1 blinker-1.4 boto3-1.15.18 botocore-1.18.18 enum-compat-0.0.3 gitdb-4.0.5 gitpython-3.1.9 ipykernel-5.3.4 jmespath-0.10.0 pathtools-0.1.2 pydeck-0.5.0b1 s3transfer-0.3.3 smmap-3.0.4 streamlit-0.69.2 validators-0.18.1 watchdog-0.10.3\n"
          ],
          "name": "stdout"
        },
        {
          "output_type": "display_data",
          "data": {
            "application/vnd.colab-display-data+json": {
              "pip_warning": {
                "packages": [
                  "ipykernel"
                ]
              }
            }
          },
          "metadata": {
            "tags": []
          }
        }
      ]
    },
    {
      "cell_type": "code",
      "metadata": {
        "id": "ytqxXnBZXtpO",
        "outputId": "eb3a3f30-5d60-4901-b6c6-933168886a84",
        "colab": {
          "base_uri": "https://localhost:8080/",
          "height": 237
        }
      },
      "source": [
        "!pip install pyngrok"
      ],
      "execution_count": 2,
      "outputs": [
        {
          "output_type": "stream",
          "text": [
            "Collecting pyngrok\n",
            "  Downloading https://files.pythonhosted.org/packages/b3/8a/3cfab0f9f2ac0daf459bf4e378b1e692956315328c7c219ab3e2f401ef1d/pyngrok-4.2.2.tar.gz\n",
            "Requirement already satisfied: future in /usr/local/lib/python3.6/dist-packages (from pyngrok) (0.16.0)\n",
            "Requirement already satisfied: PyYAML in /usr/local/lib/python3.6/dist-packages (from pyngrok) (3.13)\n",
            "Building wheels for collected packages: pyngrok\n",
            "  Building wheel for pyngrok (setup.py) ... \u001b[?25l\u001b[?25hdone\n",
            "  Created wheel for pyngrok: filename=pyngrok-4.2.2-cp36-none-any.whl size=18025 sha256=3b40af5dcce6bea92ee77e7e838a8bd0d04e3e83a1f1d4d8461ad41ace1c57d0\n",
            "  Stored in directory: /root/.cache/pip/wheels/9c/d3/b5/502fbef4b2782a6142bc00c62ccde76ee04c9148fb43b1b2cd\n",
            "Successfully built pyngrok\n",
            "Installing collected packages: pyngrok\n",
            "Successfully installed pyngrok-4.2.2\n"
          ],
          "name": "stdout"
        }
      ]
    },
    {
      "cell_type": "code",
      "metadata": {
        "id": "OVr7AsZ669Pk",
        "outputId": "42df827d-5265-437e-ce6f-64498427010f",
        "colab": {
          "base_uri": "https://localhost:8080/",
          "height": 35
        }
      },
      "source": [
        "!cd /content/drive/My\\ Drive/Colab\\ Notebooks/"
      ],
      "execution_count": 3,
      "outputs": [
        {
          "output_type": "stream",
          "text": [
            "/bin/bash: line 0: cd: /content/drive/My Drive/Colab Notebooks/: No such file or directory\n"
          ],
          "name": "stdout"
        }
      ]
    },
    {
      "cell_type": "code",
      "metadata": {
        "id": "k9QxUVoEDw1p",
        "outputId": "912fccbb-16bb-4ceb-b26e-8801a2bfd806",
        "colab": {
          "base_uri": "https://localhost:8080/",
          "height": 35
        }
      },
      "source": [
        "%%writefile style.css\n",
        "body {\n",
        "    color: black;\n",
        "    background-color: #4F8BF9;\n",
        "    #background-color: transparent;\n",
        "    #background-image: linear-gradient(to bottom, black,black),url(\"https://drive.google.com/uc?export=download&id=1bG_rkbQq_Oh3935tkCISLg3Dl_h8GwGQ\");  \n",
        "    #background-size: cover;\n",
        "    #opacity:0.5;\n",
        "\n",
        "}\n",
        "\n",
        "sidebar .sidebar-content {\n",
        "    #background-image: linear-gradient(#2e7bcf,#2e7bcf);\n",
        "    color: black;\n",
        "    background-color: #FFDF00;\n",
        "\n",
        ".stButton>button {\n",
        "    color: black;\n",
        "    border-radius: 50%;\n",
        "    height: 3em;\n",
        "    width: 3em;\n",
        "}\n",
        "\n",
        ".stTextInput>div>div>input {\n",
        "    color: #4F8BF9;\n",
        "}"
      ],
      "execution_count": 131,
      "outputs": [
        {
          "output_type": "stream",
          "text": [
            "Overwriting style.css\n"
          ],
          "name": "stdout"
        }
      ]
    },
    {
      "cell_type": "code",
      "metadata": {
        "id": "sxahlXAhBOSK",
        "outputId": "09a0079e-5797-4008-b5f7-6c6ebb44a7c0",
        "colab": {
          "base_uri": "https://localhost:8080/",
          "height": 35
        }
      },
      "source": [
        "%%writefile Teammaker.py\n",
        "import pandas as pd\n",
        "import numpy as np\n",
        "import streamlit as st\n",
        "import string\n",
        "import Home\n",
        "#######################\n",
        "apps=Home.dset\n",
        "def remove_punc(text):\n",
        "    b=\"\".join([char for char in text if char not in '?:\\'/\\/.*[\\'\\]*'])\n",
        "    return b\n",
        "\n",
        "def disp_prof(id):\n",
        "    data=apps[['school','majors','classification','datascience_experience','num_hackathons_attended','technology_experience']]\n",
        "    data=pd.DataFrame(data.values)\n",
        "    s=apps.index[apps['userid']==id]\n",
        "    exp=st.beta_expander(id)\n",
        "    with exp:\n",
        "      st.write('Education:')\n",
        "      scl=str(data[0].values[s])\n",
        "      scl=remove_punc(scl)\n",
        "      st.write('School: ',scl)\n",
        "      cl=str(data[2].values[s])\n",
        "      cl=remove_punc(cl)\n",
        "      if (cl=='Ma'):\n",
        "        st.write('Classification: Masters')\n",
        "      elif (cl=='Jr'):\n",
        "        st.write('Classification: Junior')\n",
        "      elif cl=='Sr':\n",
        "        st.write('Classification: Senior')\n",
        "      elif cl=='So':\n",
        "        st.write('Classification: Sophomore')\n",
        "      elif cl=='Fr':\n",
        "        st.write('Classification: Freshman')\n",
        "      elif cl=='Phd':\n",
        "        st.write('Classification: Doctoral Student')\n",
        "      elif cl=='O':\n",
        "        st.write('Classification: Other')\n",
        "      a=str(data[1].values[s]).split(',')\n",
        "      for i in range(len(data[1])):\n",
        "        a=str(data[1].values[i]).split(',')\n",
        "        major=remove_punc(a[0])\n",
        "      st.write('Major: ',major)\n",
        "      st.write('Experience:')\n",
        "      datexp=str(data[3].values[s])\n",
        "      datexp=remove_punc(datexp)\n",
        "      st.write('Datascience Experience (yrs): ',datexp)\n",
        "      hacks=str(data[4].values[s])\n",
        "      hacks=remove_punc(hacks)\n",
        "      st.write('Hackathons Attended: ',hacks)\n",
        "\n",
        "def similar_people(id):\n",
        "    data=apps[['school','majors','classification','datascience_experience','num_hackathons_attended']]\n",
        "    a=data['majors'][0].split(',')\n",
        "    for i in range(len(data['majors'])):\n",
        "        a=data['majors'][i].split(',')\n",
        "        data['majors'][i]=remove_punc(a[0])\n",
        "    from sklearn.preprocessing import LabelEncoder\n",
        "    labelencoder = LabelEncoder()\n",
        "    data['school'] = labelencoder.fit_transform(data['school'])\n",
        "    data['majors'] = labelencoder.fit_transform(data['majors'])\n",
        "    data['classification'] = labelencoder.fit_transform(data['classification'])\n",
        "    data['num_hackathons_attended'] = labelencoder.fit_transform(data['num_hackathons_attended'])\n",
        "    from sklearn.preprocessing import OneHotEncoder\n",
        "    oh=OneHotEncoder(sparse=False)\n",
        "    data=pd.DataFrame(oh.fit_transform(data))\n",
        "    from sklearn.metrics.pairwise import cosine_similarity\n",
        "    q=cosine_similarity(data)\n",
        "    s=apps.index[apps['userid']==id].tolist()\n",
        "    apps['sim']=q[s].T\n",
        "    w=np.where(q[s]>0.7)\n",
        "    if len(w[1])<10:\n",
        "        w=np.where(q[s]>0.5)\n",
        "    out=apps.iloc[w[1]]\n",
        "    out=pd.DataFrame(out.values,columns=out.columns)\n",
        "    out=out.sort_values(by=['sim'],ascending=False)\n",
        "    iskill=[]\n",
        "    \n",
        "    for i in out['technology_experience'][0].split(','):\n",
        "        iskill.append(remove_punc(i))\n",
        "    g=len(set(iskill))\n",
        "    ind=0\n",
        "    f=pd.DataFrame(columns=out.columns)\n",
        "    for k in range(5):\n",
        "        for i in range(len(out['technology_experience'])):\n",
        "            tskill=[]\n",
        "            for j in out['technology_experience'][i].split(','):\n",
        "                tskill.append(remove_punc(j))\n",
        "            t=iskill+tskill\n",
        "            s=len(set(t))\n",
        "            if s>g:\n",
        "                g=s\n",
        "                ind=i\n",
        "        f=f.append(out.iloc[ind])\n",
        "        out.drop([0],inplace=True)\n",
        "        out=pd.DataFrame(out.values,columns=out.columns)\n",
        "        f=pd.DataFrame(f.values,columns=f.columns)\n",
        "        #f.drop(f.columns[[1,2,3,4,5,6,7,8,9,10,11,12,13]], axis=1,inplace=True)\n",
        "    return f\n",
        "###########################################\n",
        "def app():\n",
        "  st.header('Your Dream Team')\n",
        "  st.write('Below are our Top 5 Recommendations for you, to consider as your potential teammates, go ahead connect with them on discord and other platforms!')\n",
        "  uid=Home.id\n",
        "  teammates=similar_people(uid)\n",
        "  for i in range(len(teammates)):\n",
        "    id=teammates['userid'][i]#pd.Series.to_string(teammates['userid'][i])\n",
        "    disp_prof(id)  \n"
      ],
      "execution_count": 100,
      "outputs": [
        {
          "output_type": "stream",
          "text": [
            "Overwriting Teammaker.py\n"
          ],
          "name": "stdout"
        }
      ]
    },
    {
      "cell_type": "code",
      "metadata": {
        "id": "zNvwS2V5w2r-",
        "outputId": "64531671-d25a-4b23-e791-1877e96a3178",
        "colab": {
          "base_uri": "https://localhost:8080/",
          "height": 35
        }
      },
      "source": [
        "%%writefile WorkshopRec.py\n",
        "import pandas as pd\n",
        "import numpy as np\n",
        "import streamlit as st\n",
        "import string\n",
        "import Home\n",
        "#######################\n",
        "apps=Home.dset\n",
        "apps=apps.set_index('userid')\n",
        "def remove_punc(text):\n",
        "    b=\"\".join([char for char in text if char not in '?:\\'/\\/.*[\\'\\]*'])\n",
        "    return b\n",
        "def workshop(id):\n",
        "    data=apps[['datascience_experience','num_hackathons_attended']]\n",
        "    data['expertise']='Beginner'\n",
        "    for i in range(len(data['datascience_experience'])):\n",
        "        if data['datascience_experience'][i]>=4 and data['num_hackathons_attended'][i] in ['10+', '8-10']:\n",
        "            data['expertise'][i]='Expert'\n",
        "        elif data['datascience_experience'][i]>2 or data['num_hackathons_attended'][i] in ['8-10','4-7','1-3']:\n",
        "            data['expertise'][i]='Intermediate'\n",
        "        else:\n",
        "            data['expertise'][i]='Beginner'\n",
        "\n",
        "\n",
        "    apps['expertise']=data['expertise']\n",
        "    wrk=pd.read_csv('https://drive.google.com/uc?id=10MngpIZoAGgwAk_sxoORj7WPYs74nz5Y')\n",
        "    wrk=wrk.iloc[:13]\n",
        "    if apps['expertise'][id]=='Beginner':\n",
        "        return wrk[wrk['difficulty']==0]\n",
        "    elif apps['expertise'][id]=='Intermediate':\n",
        "        return wrk[wrk['difficulty']==1]\n",
        "    else:\n",
        "        return wrk[(wrk['difficulty']==3)|(wrk['difficulty']==2)]\n",
        "\n",
        "def disp_workshop(wi):\n",
        "  exp=st.beta_expander(wi[1])\n",
        "  with exp:\n",
        "    #desc=pd.Series.to_string(wi[3])\n",
        "    st.write(wi[3])\n",
        "    #track=pd.Series.to_string(wi[4])\n",
        "    st.write('Track:',wi[4])\n",
        "\n",
        "def app():\n",
        "  st.header('Need help?')\n",
        "  st.write('Do not fret for we have got you covered, check out these workshops we carefully selected for you based on your proficiency as well as interests!')\n",
        "  uid=Home.id\n",
        "  workshop_rec=workshop(uid)\n",
        "  workshop_rec=pd.DataFrame(workshop_rec.values)\n",
        "  #st.write(workshop_rec)\n",
        "  for i in range(len(workshop_rec)):\n",
        "    #pd.Series.to_string(teammates['userid'][i])\n",
        "    disp_workshop(workshop_rec.loc[i])\n"
      ],
      "execution_count": 132,
      "outputs": [
        {
          "output_type": "stream",
          "text": [
            "Overwriting WorkshopRec.py\n"
          ],
          "name": "stdout"
        }
      ]
    },
    {
      "cell_type": "code",
      "metadata": {
        "id": "zXFpTr4uEBK9",
        "outputId": "45ab6e40-285a-4765-d04e-4a93f19c3e37",
        "colab": {
          "base_uri": "https://localhost:8080/",
          "height": 35
        }
      },
      "source": [
        "%%writefile Home.py\n",
        "import streamlit as st\n",
        "import pandas as pd\n",
        "def expertise(dset):    \n",
        "    data=dset[['datascience_experience','num_hackathons_attended']]\n",
        "    data['expertise']='Beginner'\n",
        "    for i in range(len(data['datascience_experience'])):\n",
        "        if data['datascience_experience'][i]>=4 and data['num_hackathons_attended'][i] in ['10+', '8-10']:\n",
        "            data['expertise'][i]='Expert'\n",
        "        elif data['datascience_experience'][i]>2 or data['num_hackathons_attended'][i] in ['8-10','4-7','1-3']:\n",
        "            data['expertise'][i]='Intermediate'\n",
        "        else:\n",
        "            data['expertise'][i]='Beginner'\n",
        "    dset['expertise']=data['expertise']\n",
        "    return dset\n",
        "            \n",
        "\n",
        "    apps['expertise']=data['expertise']\n",
        "def app():\n",
        "  st.header('HOWDY! Welcome to TAMU Datathon')\n",
        "  st.write('This is your one stop shop for all things Datathon, from team mate recommendations to workshop recommendations and great articles.')\n",
        "  st.write('Here, you can also find a very helpfull companion in our chatbot Reville!')\n",
        "  st.write('In the sidebar you will find links that will take you to our Team Builder, as well as the workshop recommender,while Reville can be accessed on the bottom right corner.')\n",
        "id='95030aef3e970680d882f1527f549d9e' # Hard coding User ID for n\n",
        "dset1 = pd.read_csv('https://drive.google.com/uc?id=1mPK8_AasPMdqy3D9D0kxjjKcIXmhhcQo')\n",
        "dset=expertise(dset1)\n"
      ],
      "execution_count": 105,
      "outputs": [
        {
          "output_type": "stream",
          "text": [
            "Overwriting Home.py\n"
          ],
          "name": "stdout"
        }
      ]
    },
    {
      "cell_type": "code",
      "metadata": {
        "id": "7K9mtu32MmQi",
        "outputId": "e05d6c79-e84c-4bda-f265-4bcc818d47c8",
        "colab": {
          "base_uri": "https://localhost:8080/",
          "height": 35
        }
      },
      "source": [
        "%%writefile Stats.py\n",
        "import streamlit as st\n",
        "from math import pi\n",
        "import Home\n",
        "import matplotlib.pyplot as plt\n",
        "dats=Home.dset\n",
        "import pandas as pd\n",
        "from bokeh.io import output_file, show\n",
        "from bokeh.palettes import Category20c\n",
        "from bokeh.plotting import figure\n",
        "from bokeh.transform import cumsum\n",
        "import plotly.express as px\n",
        "\n",
        "datset=dats[['school','majors','classification','expertise','num_hackathons_attended','relavent_industries']]\n",
        "def remove_punc(text):\n",
        "    b=\"\".join([char for char in text if char not in '?:\\'/\\/.*[\\'\\]*\\\"\\_'])\n",
        "    return b\n",
        "def app():\n",
        "  st.header(\"Analytics\")\n",
        "  options=['school','expertise','Industry']\n",
        "  par=st.selectbox('Select the Parameter to Display Data',options)\n",
        "  if par=='school':\n",
        "    df=datset['school'].value_counts()[:20]\n",
        "  elif par=='expertise':\n",
        "    df=datset['expertise'].value_counts()[:20]\n",
        "  elif par=='Industry':\n",
        "    df=datset['relavent_industries'].value_counts()[:20]\n",
        "  x=df.to_dict()\n",
        "  df1=pd.Series(x).reset_index(name='value').rename(columns={'index':'country'})\n",
        "  df1['angle'] = df1['value']/df1['value'].sum() * 2*pi\n",
        "  df1['color'] = Category20c[len(x)]\n",
        "  p = figure(plot_height=350, title=\"Pie Chart\", toolbar_location=None,\n",
        "    tools=\"hover\", tooltips=\"@country: @value\", x_range=(-0.5, 1.0))\n",
        "  p.wedge(x=0, y=1, radius=0.4,\n",
        "    start_angle=cumsum('angle', include_zero=True), end_angle=cumsum('angle'),\n",
        "    line_color=\"white\", fill_color='color', legend_field='country', source=df1)\n",
        "  p.axis.axis_label=None\n",
        "  p.axis.visible=False\n",
        "  p.grid.grid_line_color = None\n",
        "  st.bokeh_chart(p)"
      ],
      "execution_count": 133,
      "outputs": [
        {
          "output_type": "stream",
          "text": [
            "Overwriting Stats.py\n"
          ],
          "name": "stdout"
        }
      ]
    },
    {
      "cell_type": "code",
      "metadata": {
        "id": "eZGnr96hCfBw",
        "outputId": "c10f3735-a92f-4a55-81c1-1eada8cd64fc",
        "colab": {
          "base_uri": "https://localhost:8080/",
          "height": 54
        }
      },
      "source": [
        "!pip install nltk"
      ],
      "execution_count": 9,
      "outputs": [
        {
          "output_type": "stream",
          "text": [
            "Requirement already satisfied: nltk in /usr/local/lib/python3.6/dist-packages (3.2.5)\n",
            "Requirement already satisfied: six in /usr/local/lib/python3.6/dist-packages (from nltk) (1.15.0)\n"
          ],
          "name": "stdout"
        }
      ]
    },
    {
      "cell_type": "code",
      "metadata": {
        "id": "BZi6MKByEzVa",
        "outputId": "170f9e79-6400-44ab-f167-c41de483a71f",
        "colab": {
          "base_uri": "https://localhost:8080/",
          "height": 35
        }
      },
      "source": [
        "%%writefile Chatbot.py\n",
        "import nltk\n",
        "import streamlit as st\n",
        "from keras.models import Sequential\n",
        "from keras.layers import Dense\n",
        "from nltk.stem.lancaster import LancasterStemmer\n",
        "stemmer=LancasterStemmer()\n",
        "nltk.download('punkt') \n",
        "import numpy as np\n",
        "import tensorflow\n",
        "#import tflearn\n",
        "import random\n",
        "import json\n",
        "import pickle\n",
        "import urllib\n",
        "import os\n",
        "url='https://drive.google.com/uc?export=download&id=1RxyyyjMJXjA-g2M03m9OM4u6GD9K36Vg'\n",
        "response=urllib.request.urlopen(url)\n",
        "data=json.loads(response.read())\n",
        "\n",
        "try:\n",
        "    with open('data.pickle','rb') as f:\n",
        "        words,labels,training,output=pickle.load(f)\n",
        "\n",
        "except:\n",
        "\n",
        "    words=[]\n",
        "    labels=[]\n",
        "    docs_x=[]\n",
        "    docs_y=[]\n",
        "\n",
        "    for intent in data['intents']:\n",
        "        for pattern in intent['patterns']:\n",
        "            wrds=nltk.word_tokenize(pattern)\n",
        "            words.extend(wrds)\n",
        "            docs_x.append(wrds)\n",
        "            docs_y.append(intent['tag'])\n",
        "\n",
        "            if intent['tag'] not in labels:\n",
        "                labels.append(intent['tag'])\n",
        "            \n",
        "    words=[stemmer.stem(w.lower()) for w in words if w !='?']\n",
        "    words=sorted(list(set(words)))\n",
        "\n",
        "    labels=sorted(labels)\n",
        "\n",
        "    training=[]\n",
        "    output=[]\n",
        "\n",
        "    out_empty=[0 for _ in range(len(labels))]\n",
        "    for x,doc in enumerate(docs_x):\n",
        "        bag=[]\n",
        "        wrds=[stemmer.stem(w) for w in doc]\n",
        "        for w in words:\n",
        "            if w in wrds:\n",
        "                bag.append(1)\n",
        "            else:\n",
        "                bag.append(0)\n",
        "        output_row=out_empty[:]\n",
        "        output_row[labels.index(docs_y[x])]=1\n",
        "\n",
        "        training.append(bag)\n",
        "        output.append(output_row)\n",
        "\n",
        "    training=np.array(training)\n",
        "    output=np.array(output)\n",
        "    with open('data.pickle','wb') as f:\n",
        "        pickle.dump((words,labels,training,output),f)\n",
        "\n",
        "model = Sequential()\n",
        "model.add(Dense(len(training[0]),input_dim=len(training[0]), kernel_initializer='normal', activation='relu'))\n",
        "model.add(Dense(32))\n",
        "model.add(Dense(32))\n",
        "model.add(Dense(len(output[0]), kernel_initializer='normal'))\n",
        "model.compile(loss='mean_squared_error', optimizer='adam')\n",
        "try:\n",
        "    model.load_weights('model.hdf5')\n",
        "except:\n",
        "    model.fit(training,output,epochs=1000, batch_size=8)\n",
        "    model.save('model.hdf5')\n",
        "\n",
        "def bag_of_words(s,words):\n",
        "    bag=[0 for _ in range(len(words))]\n",
        "\n",
        "    s_words=nltk.word_tokenize(s)\n",
        "    s_words=[stemmer.stem(word.lower()) for word in s_words]\n",
        "\n",
        "    for se in s_words:\n",
        "        for i,w in enumerate(words):\n",
        "            if w==se:\n",
        "                bag[i]=1\n",
        "    return np.array(bag)\n",
        "hist=[]\n",
        "def chat():\n",
        "    inp=st.text_input(\"you:\")\n",
        "    #hist.append(inp)\n",
        "\n",
        "        #if inp.lower()==\"quit\":\n",
        "        #    exit(0)\n",
        "    results=model.predict(np.expand_dims(np.array(bag_of_words(inp,words)),axis=0))\n",
        "    results_index=np.argmax(results)\n",
        "    tag=labels[results_index]    \n",
        "    for tg in data['intents']:\n",
        "        if tg['tag']==tag:\n",
        "            responses=tg['responses']\n",
        "    out=random.choice(responses)\n",
        "    st.write(out)\n",
        "\n",
        "def app():\n",
        "    st.header('Ask Me Anything!')\n",
        "    st.write('Hi, I am Reveille, I am here to help you with any queries you may have regarding workshops,Sponsors and much more!')\n",
        "    chat()\n"
      ],
      "execution_count": 53,
      "outputs": [
        {
          "output_type": "stream",
          "text": [
            "Overwriting Chatbot.py\n"
          ],
          "name": "stdout"
        }
      ]
    },
    {
      "cell_type": "code",
      "metadata": {
        "id": "wLVMy446EB-E",
        "outputId": "49008926-020a-4ada-a65f-c1cb64afd957",
        "colab": {
          "base_uri": "https://localhost:8080/",
          "height": 35
        }
      },
      "source": [
        "%%writefile webapp.py\n",
        "import Teammaker\n",
        "import Home\n",
        "import Stats\n",
        "import WorkshopRec\n",
        "import Chatbot\n",
        "import streamlit as st\n",
        "\n",
        "def local_css(file_name):\n",
        "    with open(file_name) as f:\n",
        "        st.markdown(f'<style>{f.read()}</style>', unsafe_allow_html=True)\n",
        "\n",
        "def remote_css(url):\n",
        "    st.markdown(f'<link href=\"{url}\" rel=\"stylesheet\">', unsafe_allow_html=True)    \n",
        "\n",
        "def icon(icon_name):\n",
        "    st.markdown(f'<i class=\"material-icons\">{icon_name}</i>', unsafe_allow_html=True)\n",
        "local_css('style.css')\n",
        "remote_css('https://fonts.googleapis.com/icon?family=Material+Icons')\n",
        "\n",
        "PAGES = {\n",
        "    \"Home\":Home,\n",
        "    \"Teams\":Teammaker,\n",
        "    \"Workshops \":WorkshopRec,\n",
        "    \"Analytics\": Stats,\n",
        "    \"Reville: The Bot\":Chatbot\n",
        "}\n",
        "\n",
        "#st.markdown(page_bg_img, unsafe_allow_html=True)\n",
        "st.sidebar.title('Navigation')\n",
        "selection = st.sidebar.radio(\"Go to\", list(PAGES.keys()))\n",
        "page = PAGES[selection]\n",
        "page.app()"
      ],
      "execution_count": 128,
      "outputs": [
        {
          "output_type": "stream",
          "text": [
            "Overwriting webapp.py\n"
          ],
          "name": "stdout"
        }
      ]
    },
    {
      "cell_type": "code",
      "metadata": {
        "id": "V7v2L9JKB84n",
        "outputId": "2bafd82c-7733-4889-838e-41f1719d11d4",
        "colab": {
          "base_uri": "https://localhost:8080/",
          "height": 54
        }
      },
      "source": [
        "!ls"
      ],
      "execution_count": 12,
      "outputs": [
        {
          "output_type": "stream",
          "text": [
            "app2.py     Home.py\t Stats.py      webapp.py\n",
            "Chatbot.py  sample_data  Teammaker.py  WorkshopRec.py\n"
          ],
          "name": "stdout"
        }
      ]
    },
    {
      "cell_type": "code",
      "metadata": {
        "id": "ufn6H70zgYfC"
      },
      "source": [
        "!streamlit run webapp.py &>/dev/null&"
      ],
      "execution_count": 51,
      "outputs": []
    },
    {
      "cell_type": "markdown",
      "metadata": {
        "id": "mcBJMPkeJVUt"
      },
      "source": [
        ""
      ]
    },
    {
      "cell_type": "code",
      "metadata": {
        "id": "rlHvbXHpgiNh",
        "outputId": "6686fd0d-4806-4023-b251-e431be084ac4",
        "colab": {
          "base_uri": "https://localhost:8080/",
          "height": 92
        }
      },
      "source": [
        "from pyngrok import ngrok\n",
        "# Setup a tunnel to the streamlit port 8501\n",
        "public_url = ngrok.connect(port='8501')\n",
        "print(public_url)"
      ],
      "execution_count": 52,
      "outputs": [
        {
          "output_type": "stream",
          "text": [
            "http://cc60e85a2cdb.ngrok.io\n"
          ],
          "name": "stdout"
        },
        {
          "output_type": "stream",
          "text": [
            "/usr/local/lib/python3.6/dist-packages/ipykernel_launcher.py:3: DeprecationWarning: Support for \"return_ngrok_tunnel\" as \"False\" is deprecated and will be removed in 5.0.0, when this method will return a NgrokTunnel instead of a str\n",
            "  This is separate from the ipykernel package so we can avoid doing imports until\n"
          ],
          "name": "stderr"
        }
      ]
    },
    {
      "cell_type": "markdown",
      "metadata": {
        "id": "Nw0Ftnkb9kVH"
      },
      "source": [
        "To Kill the tunnel and the site. Use the following Codeblock."
      ]
    },
    {
      "cell_type": "code",
      "metadata": {
        "id": "hQdP-uNE8QcJ"
      },
      "source": [
        "!pgrep streamlit"
      ],
      "execution_count": 47,
      "outputs": []
    },
    {
      "cell_type": "code",
      "metadata": {
        "id": "P2lcO6m9GOuZ"
      },
      "source": [
        "!kill 825"
      ],
      "execution_count": 44,
      "outputs": []
    },
    {
      "cell_type": "code",
      "metadata": {
        "id": "79MVT1zLGTqM"
      },
      "source": [
        "ngrok.kill()"
      ],
      "execution_count": 46,
      "outputs": []
    }
  ]
}